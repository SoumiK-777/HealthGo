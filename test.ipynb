{
 "cells": [
  {
   "cell_type": "code",
   "execution_count": 5,
   "metadata": {},
   "outputs": [
    {
     "data": {
      "text/plain": [
       "array([[-1.07158455,  0.4047715 ]])"
      ]
     },
     "execution_count": 5,
     "metadata": {},
     "output_type": "execute_result"
    }
   ],
   "source": [
    "import pickle\n",
    "model=pickle.load(open(\"./artifacts/strokemodel.pkl\",\"rb\"))\n",
    "scalar=pickle.load(open(\"./artifacts/strokescalar.pkl\",\"rb\"))\n",
    "scalar.transform([[19,100]])"
   ]
  },
  {
   "cell_type": "code",
   "execution_count": 3,
   "metadata": {},
   "outputs": [
    {
     "name": "stderr",
     "output_type": "stream",
     "text": [
      "/home/soumik/anaconda3/envs/gfghackathon/lib/python3.9/site-packages/sklearn/base.py:439: UserWarning: X does not have valid feature names, but LogisticRegression was fitted with feature names\n",
      "  warnings.warn(\n"
     ]
    },
    {
     "data": {
      "text/plain": [
       "array([[0.76782241, 0.23217759]])"
      ]
     },
     "execution_count": 3,
     "metadata": {},
     "output_type": "execute_result"
    }
   ],
   "source": [
    "model.predict_proba([[0.078280\t,0,\t0,\t1,\t0.000000]])"
   ]
  },
  {
   "cell_type": "code",
   "execution_count": 1,
   "metadata": {},
   "outputs": [
    {
     "data": {
      "text/plain": [
       "[<google.cloud.firestore_v1.base_document.DocumentSnapshot at 0x7f45647caee0>]"
      ]
     },
     "execution_count": 1,
     "metadata": {},
     "output_type": "execute_result"
    }
   ],
   "source": [
    "import firebase_admin\n",
    "from firebase_admin import credentials\n",
    "from firebase_admin import firestore\n",
    "\n",
    "cred = credentials.Certificate(\"./serviceAccountKey.json\")\n",
    "firebase_admin.initialize_app(cred)\n",
    "\n",
    "db=firestore.client()\n",
    "# data=db.collection('patients').add({'name':'Soumik','age':'19'})\n",
    "db.collection('patients').document('Soumik').set({'name':'Soumik','age':18})\n",
    "db.collection('patients').document('Soumik').set({'hospital':'Hospital'},merge=True)"
   ]
  },
  {
   "cell_type": "code",
   "execution_count": 7,
   "metadata": {},
   "outputs": [
    {
     "data": {
      "text/plain": [
       "update_time {\n",
       "  seconds: 1681542436\n",
       "  nanos: 683411000\n",
       "}"
      ]
     },
     "execution_count": 7,
     "metadata": {},
     "output_type": "execute_result"
    }
   ],
   "source": [
    "db.collection('patients').document('Aditya').set({'name':'Aditya','age':18})\n",
    "db.collection('patients').document('Aditya').set({'hospital':'Hospital'},merge=True)"
   ]
  },
  {
   "cell_type": "code",
   "execution_count": 8,
   "metadata": {},
   "outputs": [],
   "source": [
    "docs=db.collection('patients').get()"
   ]
  },
  {
   "cell_type": "code",
   "execution_count": 24,
   "metadata": {},
   "outputs": [
    {
     "data": {
      "text/plain": [
       "[{'age': 18, 'hospital': 'Hospital', 'name': 'Aditya'},\n",
       " {'age': 18, 'hospital': 'Hospital', 'name': 'Soumik'}]"
      ]
     },
     "execution_count": 24,
     "metadata": {},
     "output_type": "execute_result"
    }
   ],
   "source": [
    "docs=[x.to_dict() for x in docs]\n",
    "docs"
   ]
  }
 ],
 "metadata": {
  "kernelspec": {
   "display_name": "gfghackathon",
   "language": "python",
   "name": "python3"
  },
  "language_info": {
   "codemirror_mode": {
    "name": "ipython",
    "version": 3
   },
   "file_extension": ".py",
   "mimetype": "text/x-python",
   "name": "python",
   "nbconvert_exporter": "python",
   "pygments_lexer": "ipython3",
   "version": "3.9.12 (main, Jun  1 2022, 11:38:51) \n[GCC 7.5.0]"
  },
  "orig_nbformat": 4,
  "vscode": {
   "interpreter": {
    "hash": "7179dd6b6705d02bf4f5a8923843ba4b25f76802ce7f50878a893b5cd192fcfd"
   }
  }
 },
 "nbformat": 4,
 "nbformat_minor": 2
}
